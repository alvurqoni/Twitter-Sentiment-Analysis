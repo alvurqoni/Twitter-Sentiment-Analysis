{
 "cells": [
  {
   "cell_type": "markdown",
   "metadata": {},
   "source": [
    "Import Necessary Packages"
   ]
  },
  {
   "cell_type": "code",
   "execution_count": 1,
   "metadata": {
    "collapsed": false
   },
   "outputs": [],
   "source": [
    "import pandas as pd\n",
    "import numpy as np\n",
    "import re\n",
    "import math\n",
    "from sklearn.feature_extraction.text import CountVectorizer \n",
    "from sklearn.feature_extraction.text import TfidfTransformer\n",
    "from sklearn import linear_model\n",
    "from sklearn.model_selection import KFold\n",
    "from sklearn.metrics import precision_recall_fscore_support\n",
    "from scipy import sparse"
   ]
  },
  {
   "cell_type": "markdown",
   "metadata": {},
   "source": [
    "Preprocess Data"
   ]
  },
  {
   "cell_type": "code",
   "execution_count": 2,
   "metadata": {
    "collapsed": false
   },
   "outputs": [],
   "source": [
    "def formatTweets(fileLocation):\n",
    "    dataFrameVals = pd.read_excel(fileLocation)\n",
    "    tweetList=dataFrameVals['Tweet']\n",
    "    classList=dataFrameVals['Class']\n",
    "    formattedTweets = []\n",
    "    classes = []\n",
    "    for record,label in zip(tweetList,classList):\n",
    "        if(isinstance(label, str) != True):\n",
    "            if (label !=2 and math.isnan(label) !=True):\n",
    "                regexHTMLRemove = re.compile(r'<.*?>')\n",
    "                tempString = regexHTMLRemove.sub('',str(record))\n",
    "                #Replace all URLS\n",
    "                tempString = re.sub(r'(?i)\\b((?:[a-z][\\w-]+:(?:/{1,3}|[a-z0-9%])|www\\d{0,3}[.]|[a-z0-9.\\-]+[.][a-z]{2,4}/)(?:[^\\s()<>]+|\\(([^\\s()<>]+|(\\([^\\s()<>]+\\)))*\\))+(?:\\(([^\\s()<>]+|(\\([^\\s()<>]+\\)))*\\)|[^\\s`!()\\[\\]{};:\\'\".,<>?«»“”‘’]))','',tempString)\n",
    "                #get all A to Z\n",
    "                tempString = re.sub(r\"[^A-Za-z ]+\", '', tempString) \n",
    "                formattedTweets.append(tempString)\n",
    "                classes.append(label)\n",
    "    return formattedTweets,classes"
   ]
  },
  {
   "cell_type": "markdown",
   "metadata": {},
   "source": [
    "Enter File Location"
   ]
  },
  {
   "cell_type": "code",
   "execution_count": 5,
   "metadata": {
    "collapsed": false,
    "scrolled": true
   },
   "outputs": [],
   "source": [
    "fileLocation = r\"C:\\Users\\Shvetha\\Desktop\\Data Mining\\Project\\Project 2\\Data\\OBR.xlsx\"\n",
    "tweets,classLabels=formatTweets(fileLocation)"
   ]
  },
  {
   "cell_type": "markdown",
   "metadata": {},
   "source": [
    "Format Data to feed the model"
   ]
  },
  {
   "cell_type": "code",
   "execution_count": 6,
   "metadata": {
    "collapsed": false
   },
   "outputs": [],
   "source": [
    "countVector = CountVectorizer()\n",
    "XTrainCount = countVector.fit_transform(tweets)\n",
    "XTrainTF = TfidfTransformer(use_idf=False).fit(XTrainCount).transform(XTrainCount)\n",
    "tfidf_transformer = TfidfTransformer()\n",
    "XTrainTFIDF = tfidf_transformer.fit_transform(XTrainCount)"
   ]
  },
  {
   "cell_type": "markdown",
   "metadata": {},
   "source": [
    "Split into 10 Folds and evaluate"
   ]
  },
  {
   "cell_type": "code",
   "execution_count": 7,
   "metadata": {
    "collapsed": false
   },
   "outputs": [
    {
     "name": "stdout",
     "output_type": "stream",
     "text": [
      "Average Precision for Class 1 0.337745814916\n",
      "Average Recall for Class 1 0.426337022533\n",
      "Average Precision for Class -1 0.652853567793\n",
      "Average Recall for Class -1 0.610038877859\n",
      "Average FScore for Class 1 0.368665856369\n",
      "Average FScore for Class -1 0.618159486187\n",
      "Average Error 0.4911360070294357\n"
     ]
    }
   ],
   "source": [
    "kf = KFold(n_splits=10)\n",
    "sumf_1=0\n",
    "sumf1=0\n",
    "sumprec1=0\n",
    "sumprec_1=0\n",
    "sumrec1=0\n",
    "sumrec_1=0\n",
    "avgerror=0\n",
    "for train,test in kf.split(XTrainTFIDF):\n",
    "    predicted=[]\n",
    "    trainset=[]\n",
    "    testset=[]\n",
    "    truevalues=[]\n",
    "    trainlabels=[]\n",
    "    sumerror=0\n",
    "    for i in train:\n",
    "        trainset.append(XTrainTFIDF[i].toarray()[0])\n",
    "        trainlabels.append(classLabels[i])\n",
    "    trainmatrix=sparse.csc_matrix(np.asarray(trainset))\n",
    "    for i in test:\n",
    "        testset.append(XTrainTFIDF[i].toarray()[0])\n",
    "        truevalues.append(classLabels[i])\n",
    "    testmatrix=sparse.csc_matrix(np.asarray(testset))\n",
    "    logisticreg = linear_model.LogisticRegression(C=1e5)\n",
    "    logisticreg.fit(trainset, trainlabels) \n",
    "    predicted = logisticreg.predict(np.asarray(testset))\n",
    "    for i in range(len(predicted)):\n",
    "        if(predicted[i]!=truevalues[i]):\n",
    "            sumerror=sumerror+1\n",
    "    avgerror=avgerror+float(sumerror)/len(test)\n",
    "    sumprec_1=sumprec_1+precision_recall_fscore_support(predicted,truevalues,labels=[-1,1])[0][0]\n",
    "    sumprec1=sumprec1+precision_recall_fscore_support(predicted,truevalues,labels=[-1,1])[0][1]\n",
    "    sumrec_1=sumrec_1+precision_recall_fscore_support(predicted,truevalues,labels=[-1,1])[1][0]\n",
    "    sumrec1=sumrec1+precision_recall_fscore_support(predicted,truevalues,labels=[-1,1])[1][1]\n",
    "    sumf_1=sumf_1+precision_recall_fscore_support(predicted,truevalues,labels=[-1,1])[2][0]\n",
    "    sumf1=sumf1+precision_recall_fscore_support(predicted,truevalues,labels=[-1,1])[2][1]\n",
    "print(\"Average Precision for Class 1\",sumprec1/10)\n",
    "print(\"Average Recall for Class 1\",sumrec1/10)\n",
    "print(\"Average Precision for Class -1\",sumprec_1/10)\n",
    "print(\"Average Recall for Class -1\",sumrec_1/10)\n",
    "print(\"Average FScore for Class 1\",sumf1/10)\n",
    "print(\"Average FScore for Class -1\",sumf_1/10)\n",
    "print(\"Average Error\",avgerror/10)"
   ]
  },
  {
   "cell_type": "code",
   "execution_count": null,
   "metadata": {
    "collapsed": true
   },
   "outputs": [],
   "source": []
  }
 ],
 "metadata": {
  "anaconda-cloud": {},
  "kernelspec": {
   "display_name": "Python [conda root]",
   "language": "python",
   "name": "conda-root-py"
  },
  "language_info": {
   "codemirror_mode": {
    "name": "ipython",
    "version": 3
   },
   "file_extension": ".py",
   "mimetype": "text/x-python",
   "name": "python",
   "nbconvert_exporter": "python",
   "pygments_lexer": "ipython3",
   "version": "3.5.2"
  }
 },
 "nbformat": 4,
 "nbformat_minor": 1
}
