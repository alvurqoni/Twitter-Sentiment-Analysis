{
 "cells": [
  {
   "cell_type": "code",
   "execution_count": 53,
   "metadata": {
    "collapsed": false
   },
   "outputs": [],
   "source": [
    "import pandas as pd\n",
    "import re\n",
    "import numpy\n",
    "import os\n",
    "import math\n",
    "from os import listdir\n",
    "from os.path import isfile, join\n",
    "from sklearn.svm import SVR\n",
    "from nltk.corpus import stopwords\n",
    "from nltk.stem import SnowballStemmer\n",
    "from sklearn.model_selection import KFold\n",
    "from sklearn.metrics import precision_recall_fscore_support\n",
    "from sklearn import svm\n",
    "from scipy import sparse\n",
    "from sklearn.feature_extraction.text import CountVectorizer\n",
    "from sklearn.feature_extraction.text import TfidfTransformer\n",
    "from sklearn.linear_model import SGDClassifier"
   ]
  },
  {
   "cell_type": "code",
   "execution_count": 54,
   "metadata": {
    "collapsed": false
   },
   "outputs": [],
   "source": [
    "def formatTweets(fileLocation):\n",
    "    dataFrameVals = pd.read_excel(fileLocation)\n",
    "    p = SnowballStemmer(\"english\")\n",
    "    stopWords = set(stopwords.words(\"english\"))\n",
    "    tweetList=dataFrameVals['Tweet']\n",
    "    classList=dataFrameVals['Class']\n",
    "    formattedTweets = []\n",
    "    classes = []\n",
    "    for record,label in zip(tweetList,classList):\n",
    "        if(isinstance(label, str) != True):\n",
    "            if (label !=2 and math.isnan(label) !=True):\n",
    "                regexHTMLRemove = re.compile(r'<.*?>')\n",
    "                tempString = regexHTMLRemove.sub('',str(record)).lower()             \n",
    "                #Replace all URLS\n",
    "                tempString = re.sub(r'(?i)\\b((?:[a-z][\\w-]+:(?:/{1,3}|[a-z0-9%])|www\\d{0,3}[.]|[a-z0-9.\\-]+[.][a-z]{2,4}/)(?:[^\\s()<>]+|\\(([^\\s()<>]+|(\\([^\\s()<>]+\\)))*\\))+(?:\\(([^\\s()<>]+|(\\([^\\s()<>]+\\)))*\\)|[^\\s`!()\\[\\]{};:\\'\".,<>?«»“”‘’]))',' ',tempString)\n",
    "                #get all A to Z\n",
    "                tempString = re.sub(r\"[^A-Za-z ]+\", ' ', tempString) \n",
    "                listOfWords = tempString.split()\n",
    "                newList = []\n",
    "                for word in listOfWords:\n",
    "                    if word not in stopWords:\n",
    "                        newList.append(p.stem(word))\n",
    "                tempString = \" \".join(str(x) for x in newList)              \n",
    "                formattedTweets.append(tempString)\n",
    "                classes.append(label)\n",
    "    return formattedTweets,classes"
   ]
  },
  {
   "cell_type": "code",
   "execution_count": 55,
   "metadata": {
    "collapsed": false,
    "scrolled": true
   },
   "outputs": [],
   "source": [
    "tweets,classlabels=formatTweets(r\"C:\\Users\\Shvetha\\Desktop\\Data Mining\\Project\\Project 2\\Data\\JOIN.xlsx\");"
   ]
  },
  {
   "cell_type": "code",
   "execution_count": 57,
   "metadata": {
    "collapsed": false
   },
   "outputs": [],
   "source": [
    "#tf idf matrix for features \n",
    "train_set=tweets\n",
    "vectorizer=CountVectorizer()\n",
    "train_matrix=vectorizer.fit_transform(train_set)\n",
    "tfidf = TfidfTransformer(norm=\"l2\")\n",
    "tfidf.fit(train_matrix)\n",
    "tf_idf_train= tfidf.transform(train_matrix)"
   ]
  },
  {
   "cell_type": "code",
   "execution_count": 58,
   "metadata": {
    "collapsed": false
   },
   "outputs": [
    {
     "name": "stdout",
     "output_type": "stream",
     "text": [
      "avg prec 1 0.42366670782853005\n",
      "avg recall 1 0.4914166305229923\n",
      "avg prec -1 0.6584931117095305\n",
      "avg recall -1 0.5845103153381425\n",
      "avg fsc 1 0.45128388447848494\n",
      "avg fs -1 0.6119691748734568\n",
      "avg error 0.46379865504536066\n"
     ]
    }
   ],
   "source": [
    "clf = svm.LinearSVC()\n",
    "for train,test in kf.split(tf_idf_train):\n",
    "    predicted=[]\n",
    "    truevalues=[]\n",
    "    trainlabels=[]\n",
    "    temp1=[]\n",
    "    temp2=[]\n",
    "    sumerror=0\n",
    "    for i in train:\n",
    "        temp1.append(tf_idf_train[i].toarray()[0])\n",
    "        trainlabels.append(classlabels[i])\n",
    "    trainset=sparse.csc_matrix(numpy.asarray(temp1))\n",
    "    for i in test:\n",
    "        temp2.append(tf_idf_train[i].toarray()[0])\n",
    "        truevalues.append(classlabels[i])\n",
    "    testset=sparse.csc_matrix(numpy.asarray(temp2))\n",
    "    clf.fit(trainset,trainlabels)\n",
    "    predicted=clf.predict(testset)\n",
    "    for i in range(len(predicted)):\n",
    "        if(predicted[i]!=truevalues[i]):\n",
    "            sumerror=sumerror+1\n",
    "    avgerror=avgerror+float(sumerror)/len(test)\n",
    "    sumprec_1=sumprec_1+precision_recall_fscore_support(predicted,truevalues,labels=[-1,1])[0][0]\n",
    "    sumprec1=sumprec1+precision_recall_fscore_support(predicted,truevalues,labels=[-1,1])[0][1]\n",
    "    sumrec_1=sumrec_1+precision_recall_fscore_support(predicted,truevalues,labels=[-1,1])[1][0]\n",
    "    sumrec1=sumrec1+precision_recall_fscore_support(predicted,truevalues,labels=[-1,1])[1][1]\n",
    "    sumf_1=sumf_1+precision_recall_fscore_support(predicted,truevalues,labels=[-1,1])[2][0]\n",
    "    sumf1=sumf1+precision_recall_fscore_support(predicted,truevalues,labels=[-1,1])[2][1]\n",
    "print(\"avg prec 1\",float(sumprec1)/10)\n",
    "print(\"avg recall 1\",float(sumrec1)/10)\n",
    "print(\"avg prec -1\",float(sumprec_1)/10)\n",
    "print(\"avg recall -1\",float(sumrec_1)/10)\n",
    "print(\"avg fsc 1\",float(sumf1)/10)\n",
    "print(\"avg fs -1\",float(sumf_1)/10)\n",
    "print(\"avg error\",float(avgerror)/10)"
   ]
  },
  {
   "cell_type": "code",
   "execution_count": null,
   "metadata": {
    "collapsed": true
   },
   "outputs": [],
   "source": []
  },
  {
   "cell_type": "code",
   "execution_count": null,
   "metadata": {
    "collapsed": true
   },
   "outputs": [],
   "source": []
  }
 ],
 "metadata": {
  "anaconda-cloud": {},
  "kernelspec": {
   "display_name": "Python [conda root]",
   "language": "python",
   "name": "conda-root-py"
  },
  "language_info": {
   "codemirror_mode": {
    "name": "ipython",
    "version": 3
   },
   "file_extension": ".py",
   "mimetype": "text/x-python",
   "name": "python",
   "nbconvert_exporter": "python",
   "pygments_lexer": "ipython3",
   "version": "3.5.2"
  }
 },
 "nbformat": 4,
 "nbformat_minor": 1
}
